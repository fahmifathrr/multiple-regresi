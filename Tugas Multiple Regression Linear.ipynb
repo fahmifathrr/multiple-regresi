{
  "nbformat": 4,
  "nbformat_minor": 0,
  "metadata": {
    "colab": {
      "name": "001_Regression.ipynb",
      "provenance": [],
      "include_colab_link": true
    },
    "kernelspec": {
      "name": "python3",
      "display_name": "Python 3"
    }
  },
  "cells": [
    {
      "cell_type": "markdown",
      "metadata": {
        "id": "view-in-github",
        "colab_type": "text"
      },
      "source": [
        "<a href=\"https://colab.research.google.com/github/fahmifathrr/multiple-regresi/blob/master/Tugas%20Multiple%20Regression%20Linear.ipynb\" target=\"_parent\"><img src=\"https://colab.research.google.com/assets/colab-badge.svg\" alt=\"Open In Colab\"/></a>"
      ]
    },
    {
      "cell_type": "markdown",
      "metadata": {
        "id": "Up2MQL0imvLy"
      },
      "source": [
        "*Data Science Course - Telkom Digital Talent Incubator*\n",
        "\n",
        "\n",
        "---\n",
        "\n",
        "\n"
      ]
    },
    {
      "cell_type": "markdown",
      "metadata": {
        "id": "COHOuO-aicds"
      },
      "source": [
        "# **Regression**\n",
        "Regression analysis is a basic method used in statistical analysis of data. It’s a statistical method which allows estimating the relationships among variables. One needs to identify dependent variable which will vary based on the value of the independent variable."
      ]
    },
    {
      "cell_type": "code",
      "metadata": {
        "id": "LEoeUm5R4yVu"
      },
      "source": [
        "import pandas as pd\n",
        "import statsmodels.api as sm\n",
        "import seaborn as sns\n",
        "import matplotlib.pyplot as plt\n",
        "import warnings\n",
        "from sklearn import linear_model\n",
        "\n",
        "warnings.filterwarnings('ignore')\n",
        "plt.rcParams['figure.figsize'] = (7, 7)\n",
        "plt.style.use('ggplot')"
      ],
      "execution_count": 4,
      "outputs": []
    },
    {
      "cell_type": "code",
      "metadata": {
        "id": "azdlE-U75GBf",
        "outputId": "c0a5a896-be8d-4c48-9997-c07001eeac35",
        "colab": {
          "base_uri": "https://localhost:8080/",
          "height": 514
        }
      },
      "source": [
        "# Import Dataset\n",
        "df_pie = pd.read_csv('https://raw.githubusercontent.com/rc-dbe/dti/main/data/pie-sales.csv', sep =\";\")\n",
        "df_pie"
      ],
      "execution_count": 5,
      "outputs": [
        {
          "output_type": "execute_result",
          "data": {
            "text/html": [
              "<div>\n",
              "<style scoped>\n",
              "    .dataframe tbody tr th:only-of-type {\n",
              "        vertical-align: middle;\n",
              "    }\n",
              "\n",
              "    .dataframe tbody tr th {\n",
              "        vertical-align: top;\n",
              "    }\n",
              "\n",
              "    .dataframe thead th {\n",
              "        text-align: right;\n",
              "    }\n",
              "</style>\n",
              "<table border=\"1\" class=\"dataframe\">\n",
              "  <thead>\n",
              "    <tr style=\"text-align: right;\">\n",
              "      <th></th>\n",
              "      <th>week</th>\n",
              "      <th>pie_sales</th>\n",
              "      <th>price</th>\n",
              "      <th>advertising</th>\n",
              "    </tr>\n",
              "  </thead>\n",
              "  <tbody>\n",
              "    <tr>\n",
              "      <th>0</th>\n",
              "      <td>1</td>\n",
              "      <td>350</td>\n",
              "      <td>5.5</td>\n",
              "      <td>3.3</td>\n",
              "    </tr>\n",
              "    <tr>\n",
              "      <th>1</th>\n",
              "      <td>2</td>\n",
              "      <td>460</td>\n",
              "      <td>7.5</td>\n",
              "      <td>3.3</td>\n",
              "    </tr>\n",
              "    <tr>\n",
              "      <th>2</th>\n",
              "      <td>3</td>\n",
              "      <td>350</td>\n",
              "      <td>8.0</td>\n",
              "      <td>3.0</td>\n",
              "    </tr>\n",
              "    <tr>\n",
              "      <th>3</th>\n",
              "      <td>4</td>\n",
              "      <td>430</td>\n",
              "      <td>8.0</td>\n",
              "      <td>4.5</td>\n",
              "    </tr>\n",
              "    <tr>\n",
              "      <th>4</th>\n",
              "      <td>5</td>\n",
              "      <td>350</td>\n",
              "      <td>6.8</td>\n",
              "      <td>3.0</td>\n",
              "    </tr>\n",
              "    <tr>\n",
              "      <th>5</th>\n",
              "      <td>6</td>\n",
              "      <td>380</td>\n",
              "      <td>7.5</td>\n",
              "      <td>4.0</td>\n",
              "    </tr>\n",
              "    <tr>\n",
              "      <th>6</th>\n",
              "      <td>7</td>\n",
              "      <td>430</td>\n",
              "      <td>4.5</td>\n",
              "      <td>3.0</td>\n",
              "    </tr>\n",
              "    <tr>\n",
              "      <th>7</th>\n",
              "      <td>8</td>\n",
              "      <td>470</td>\n",
              "      <td>6.4</td>\n",
              "      <td>3.7</td>\n",
              "    </tr>\n",
              "    <tr>\n",
              "      <th>8</th>\n",
              "      <td>9</td>\n",
              "      <td>450</td>\n",
              "      <td>7.0</td>\n",
              "      <td>3.5</td>\n",
              "    </tr>\n",
              "    <tr>\n",
              "      <th>9</th>\n",
              "      <td>10</td>\n",
              "      <td>490</td>\n",
              "      <td>5.0</td>\n",
              "      <td>4.0</td>\n",
              "    </tr>\n",
              "    <tr>\n",
              "      <th>10</th>\n",
              "      <td>11</td>\n",
              "      <td>340</td>\n",
              "      <td>7.2</td>\n",
              "      <td>3.5</td>\n",
              "    </tr>\n",
              "    <tr>\n",
              "      <th>11</th>\n",
              "      <td>12</td>\n",
              "      <td>300</td>\n",
              "      <td>7.9</td>\n",
              "      <td>3.2</td>\n",
              "    </tr>\n",
              "    <tr>\n",
              "      <th>12</th>\n",
              "      <td>13</td>\n",
              "      <td>440</td>\n",
              "      <td>5.9</td>\n",
              "      <td>4.0</td>\n",
              "    </tr>\n",
              "    <tr>\n",
              "      <th>13</th>\n",
              "      <td>14</td>\n",
              "      <td>450</td>\n",
              "      <td>5.0</td>\n",
              "      <td>3.5</td>\n",
              "    </tr>\n",
              "    <tr>\n",
              "      <th>14</th>\n",
              "      <td>15</td>\n",
              "      <td>300</td>\n",
              "      <td>7.0</td>\n",
              "      <td>2.7</td>\n",
              "    </tr>\n",
              "  </tbody>\n",
              "</table>\n",
              "</div>"
            ],
            "text/plain": [
              "    week  pie_sales  price  advertising\n",
              "0      1        350    5.5          3.3\n",
              "1      2        460    7.5          3.3\n",
              "2      3        350    8.0          3.0\n",
              "3      4        430    8.0          4.5\n",
              "4      5        350    6.8          3.0\n",
              "5      6        380    7.5          4.0\n",
              "6      7        430    4.5          3.0\n",
              "7      8        470    6.4          3.7\n",
              "8      9        450    7.0          3.5\n",
              "9     10        490    5.0          4.0\n",
              "10    11        340    7.2          3.5\n",
              "11    12        300    7.9          3.2\n",
              "12    13        440    5.9          4.0\n",
              "13    14        450    5.0          3.5\n",
              "14    15        300    7.0          2.7"
            ]
          },
          "metadata": {
            "tags": []
          },
          "execution_count": 5
        }
      ]
    },
    {
      "cell_type": "markdown",
      "metadata": {
        "id": "iVvGlw106ukZ"
      },
      "source": [
        "### **Regression using Sklearn**"
      ]
    },
    {
      "cell_type": "code",
      "metadata": {
        "id": "Xh2xtsJnup_g"
      },
      "source": [
        "df = pd.DataFrame(df_pie,columns=['week','pie_sales','price','advertising'])\n",
        "x = df[['price','advertising']]\n",
        "y = df['pie_sales']"
      ],
      "execution_count": 6,
      "outputs": []
    },
    {
      "cell_type": "code",
      "metadata": {
        "id": "Cp0WNDp7vw26",
        "outputId": "3963f976-4e64-4b65-9622-053366083ca9",
        "colab": {
          "base_uri": "https://localhost:8080/",
          "height": 85
        }
      },
      "source": [
        "regr = linear_model.LinearRegression()\n",
        "regr.fit(x, y)\n",
        "\n",
        "print('Intercept: \\n', regr.intercept_)\n",
        "print('Coefficients: \\n', regr.coef_)\n"
      ],
      "execution_count": 7,
      "outputs": [
        {
          "output_type": "stream",
          "text": [
            "Intercept: \n",
            " 306.5261932837436\n",
            "Coefficients: \n",
            " [-24.97508952  74.13095749]\n"
          ],
          "name": "stdout"
        }
      ]
    },
    {
      "cell_type": "code",
      "metadata": {
        "id": "7KOkcY1Wv7em",
        "outputId": "d125dfe3-cfb0-45d1-c7c1-95c910b1ce94",
        "colab": {
          "base_uri": "https://localhost:8080/",
          "height": 51
        }
      },
      "source": [
        "# prediction with sklearn\n",
        "New_price = 5.50\n",
        "New_advertising = 3.5\n",
        "print ('Predicted pie_sales: \\n', regr.predict([[New_price ,New_advertising]]))\n"
      ],
      "execution_count": 8,
      "outputs": [
        {
          "output_type": "stream",
          "text": [
            "Predicted pie_sales: \n",
            " [428.62155215]\n"
          ],
          "name": "stdout"
        }
      ]
    },
    {
      "cell_type": "code",
      "metadata": {
        "id": "975tW_eMwvdC"
      },
      "source": [
        "# with statsmodels\n",
        "X = sm.add_constant(x) # adding a constant"
      ],
      "execution_count": 9,
      "outputs": []
    },
    {
      "cell_type": "code",
      "metadata": {
        "id": "9_rJAat8w51A",
        "outputId": "d69370a2-a771-48b9-a4dd-88077e595942",
        "colab": {
          "base_uri": "https://localhost:8080/",
          "height": 442
        }
      },
      "source": [
        "model = sm.OLS(y, x).fit()\n",
        "predictions = model.predict(x) \n",
        " \n",
        "print_model = model.summary()\n",
        "print(print_model)"
      ],
      "execution_count": 10,
      "outputs": [
        {
          "output_type": "stream",
          "text": [
            "                                 OLS Regression Results                                \n",
            "=======================================================================================\n",
            "Dep. Variable:              pie_sales   R-squared (uncentered):                   0.982\n",
            "Model:                            OLS   Adj. R-squared (uncentered):              0.980\n",
            "Method:                 Least Squares   F-statistic:                              361.5\n",
            "Date:                Sat, 17 Oct 2020   Prob (F-statistic):                    4.04e-12\n",
            "Time:                        09:26:11   Log-Likelihood:                         -81.034\n",
            "No. Observations:                  15   AIC:                                      166.1\n",
            "Df Residuals:                      13   BIC:                                      167.5\n",
            "Df Model:                           2                                                  \n",
            "Covariance Type:            nonrobust                                                  \n",
            "===============================================================================\n",
            "                  coef    std err          t      P>|t|      [0.025      0.975]\n",
            "-------------------------------------------------------------------------------\n",
            "price          -7.4537     10.502     -0.710      0.490     -30.141      15.234\n",
            "advertising   127.9024     20.064      6.375      0.000      84.557     171.247\n",
            "==============================================================================\n",
            "Omnibus:                        1.112   Durbin-Watson:                   2.080\n",
            "Prob(Omnibus):                  0.574   Jarque-Bera (JB):                0.747\n",
            "Skew:                          -0.081   Prob(JB):                        0.688\n",
            "Kurtosis:                       1.919   Cond. No.                         11.4\n",
            "==============================================================================\n",
            "\n",
            "Warnings:\n",
            "[1] Standard Errors assume that the covariance matrix of the errors is correctly specified.\n"
          ],
          "name": "stdout"
        }
      ]
    }
  ]
}